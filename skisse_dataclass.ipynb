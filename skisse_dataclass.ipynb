{
 "cells": [
  {
   "cell_type": "code",
   "execution_count": 2,
   "id": "550a0f74",
   "metadata": {},
   "outputs": [],
   "source": [
    "from dataclasses import dataclass\n",
    "from typing import List"
   ]
  },
  {
   "cell_type": "code",
   "execution_count": 10,
   "id": "d7352dd2",
   "metadata": {},
   "outputs": [],
   "source": [
    "@dataclass\n",
    "class Individual:\n",
    "    id: int\n",
    "    vec: List[List]\n",
    "    fitness : int"
   ]
  },
  {
   "cell_type": "code",
   "execution_count": 14,
   "id": "2ead9c0a",
   "metadata": {},
   "outputs": [],
   "source": [
    "i1 = Individual(1, [[],[]], 100)\n",
    "i2 = Individual(2, [[],[]], 50)"
   ]
  },
  {
   "cell_type": "code",
   "execution_count": 15,
   "id": "147a5e7a",
   "metadata": {},
   "outputs": [
    {
     "data": {
      "text/plain": [
       "Individual(id=1, vec=[[], []], fitness=100)"
      ]
     },
     "execution_count": 15,
     "metadata": {},
     "output_type": "execute_result"
    }
   ],
   "source": [
    "i1"
   ]
  },
  {
   "cell_type": "code",
   "execution_count": 16,
   "id": "fedc9760",
   "metadata": {},
   "outputs": [
    {
     "data": {
      "text/plain": [
       "Individual(id=2, vec=[[], []], fitness=50)"
      ]
     },
     "execution_count": 16,
     "metadata": {},
     "output_type": "execute_result"
    }
   ],
   "source": [
    "i2"
   ]
  },
  {
   "cell_type": "code",
   "execution_count": 19,
   "id": "88d70f42",
   "metadata": {},
   "outputs": [
    {
     "data": {
      "text/plain": [
       "{1: 100, 2: 50}"
      ]
     },
     "execution_count": 19,
     "metadata": {},
     "output_type": "execute_result"
    }
   ],
   "source": [
    "{i1.id : i1.fitness, i2.id : i2.fitness}"
   ]
  },
  {
   "cell_type": "code",
   "execution_count": 27,
   "id": "19a17e8a",
   "metadata": {},
   "outputs": [],
   "source": [
    "l1 = [\n",
    "    i1, i2\n",
    "]\n",
    "l1.sort(key = lambda x: x.fitness)"
   ]
  },
  {
   "cell_type": "code",
   "execution_count": 28,
   "id": "dcbb557a",
   "metadata": {},
   "outputs": [
    {
     "data": {
      "text/plain": [
       "[Individual(id=2, vec=[[], []], fitness=50),\n",
       " Individual(id=1, vec=[[], []], fitness=100)]"
      ]
     },
     "execution_count": 28,
     "metadata": {},
     "output_type": "execute_result"
    }
   ],
   "source": [
    "l1"
   ]
  },
  {
   "cell_type": "code",
   "execution_count": null,
   "id": "b093f891",
   "metadata": {},
   "outputs": [],
   "source": []
  }
 ],
 "metadata": {
  "kernelspec": {
   "display_name": "Python 3 (ipykernel)",
   "language": "python",
   "name": "python3"
  },
  "language_info": {
   "codemirror_mode": {
    "name": "ipython",
    "version": 3
   },
   "file_extension": ".py",
   "mimetype": "text/x-python",
   "name": "python",
   "nbconvert_exporter": "python",
   "pygments_lexer": "ipython3",
   "version": "3.8.6"
  }
 },
 "nbformat": 4,
 "nbformat_minor": 5
}
